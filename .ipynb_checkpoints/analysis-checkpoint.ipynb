{
 "cells": [
  {
   "cell_type": "code",
   "execution_count": 11,
   "metadata": {
    "collapsed": true
   },
   "outputs": [],
   "source": [
    "import json\n",
    "import networkx as nx"
   ]
  },
  {
   "cell_type": "code",
   "execution_count": 6,
   "metadata": {
    "collapsed": true
   },
   "outputs": [],
   "source": [
    "profile = json.load(open(\"profile.json\"))"
   ]
  },
  {
   "cell_type": "code",
   "execution_count": 7,
   "metadata": {
    "collapsed": false
   },
   "outputs": [],
   "source": [
    "papers = json.load(open(\"papers.json\"))"
   ]
  },
  {
   "cell_type": "code",
   "execution_count": 76,
   "metadata": {
    "collapsed": true
   },
   "outputs": [],
   "source": [
    "# number of GEAR papers\n",
    "\n",
    "def make_year_graph(profile, papers, year_0, year_1, full):\n",
    "    G = nx.Graph()\n",
    "    \n",
    "    if full:\n",
    "        for member in profile['items']:\n",
    "            G.add_node(member['member_id'])\n",
    "            \n",
    "    \n",
    "    for paper in papers['papers']:\n",
    "        year = int(paper['date'])\n",
    "        if year_0<=year and year<=year_1:\n",
    "            edges = get_pairs(paper['collaborator_ids'])\n",
    "            for edge in edges:\n",
    "                G.add_edge(edge[0], edge[1])\n",
    "    return G\n",
    "\n",
    "def get_pairs(l):\n",
    "    res = []\n",
    "    for a in l:\n",
    "        for b in l:\n",
    "            if a<b:\n",
    "                res.append((a,b))\n",
    "    return res"
   ]
  },
  {
   "cell_type": "markdown",
   "metadata": {},
   "source": [
    "### Number of authors who collaborated with gear members"
   ]
  },
  {
   "cell_type": "code",
   "execution_count": 47,
   "metadata": {
    "collapsed": false
   },
   "outputs": [
    {
     "name": "stdout",
     "output_type": "stream",
     "text": [
      "From 2011 to 2011 | Number of authors who collaborated with gear members: 66\n",
      "From 2011 to 2012 | Number of authors who collaborated with gear members: 106\n",
      "From 2011 to 2013 | Number of authors who collaborated with gear members: 131\n",
      "From 2011 to 2014 | Number of authors who collaborated with gear members: 164\n",
      "From 2011 to 2015 | Number of authors who collaborated with gear members: 206\n",
      "From 2011 to 2016 | Number of authors who collaborated with gear members: 231\n"
     ]
    }
   ],
   "source": [
    "for year_1 in range(2011, 2017):\n",
    "    g = make_year_graph(profile, papers, 2011, year_1, False)\n",
    "    print \"From 2011 to\", year_1, \"| Number of authors who collaborated with gear members:\", len(g.nodes())"
   ]
  },
  {
   "cell_type": "markdown",
   "metadata": {},
   "source": [
    "### Mean distance between gear members"
   ]
  },
  {
   "cell_type": "markdown",
   "metadata": {},
   "source": [
    "mean(dist(u,v)) if there exist a path between u and v"
   ]
  },
  {
   "cell_type": "code",
   "execution_count": 77,
   "metadata": {
    "collapsed": true
   },
   "outputs": [],
   "source": [
    "def mean_dist_year(starting_yr, ending_yr):\n",
    "    g = make_year_graph(profile, papers, starting_yr, ending_yr, False)\n",
    "    \n",
    "    nodes = g.nodes()\n",
    "    pairs = get_pairs(nodes)\n",
    "    #print pairs\n",
    "    dist_list = []\n",
    "    for p in pairs:\n",
    "        try:\n",
    "            dist_list.append(nx.shortest_path_length(g, source = p[0], target = p[1]))\n",
    "        except:\n",
    "            pass\n",
    "    return round(float(sum(dist_list))/len(dist_list),2)"
   ]
  },
  {
   "cell_type": "code",
   "execution_count": 78,
   "metadata": {
    "collapsed": false
   },
   "outputs": [
    {
     "name": "stdout",
     "output_type": "stream",
     "text": [
      "From 2011 to 2011 | Mean distance between gear members 1.49\n",
      "From 2011 to 2012 | Mean distance between gear members 3.41\n",
      "From 2011 to 2013 | Mean distance between gear members 4.04\n",
      "From 2011 to 2014 | Mean distance between gear members 5.22\n",
      "From 2011 to 2015 | Mean distance between gear members 5.32\n",
      "From 2011 to 2016 | Mean distance between gear members 5.97\n"
     ]
    }
   ],
   "source": [
    "for year_1 in range(2011, 2017):\n",
    "    d = mean_dist_year(2011, year_1)\n",
    "    print \"From 2011 to\", year_1, \"| Mean distance between gear members\", d"
   ]
  },
  {
   "cell_type": "markdown",
   "metadata": {},
   "source": [
    "### Clustering coefficient"
   ]
  },
  {
   "cell_type": "markdown",
   "metadata": {},
   "source": [
    "definition:\n",
    "\n",
    "https://networkx.github.io/documentation/networkx-1.10/reference/generated/networkx.algorithms.cluster.average_clustering.html#networkx.algorithms.cluster.average_clustering"
   ]
  },
  {
   "cell_type": "code",
   "execution_count": 79,
   "metadata": {
    "collapsed": true
   },
   "outputs": [],
   "source": [
    "def clustering_coefficient_year(starting_yr, ending_yr):\n",
    "    g = make_year_graph(profile, papers, starting_yr, ending_yr, True)\n",
    "    return nx.average_clustering(g)"
   ]
  },
  {
   "cell_type": "code",
   "execution_count": 80,
   "metadata": {
    "collapsed": false
   },
   "outputs": [
    {
     "name": "stdout",
     "output_type": "stream",
     "text": [
      "From 2011 to 2011 | Clustering coefficient 0.0409921671018\n",
      "From 2011 to 2012 | Clustering coefficient 0.0788263085913\n",
      "From 2011 to 2013 | Clustering coefficient 0.089553121668\n",
      "From 2011 to 2014 | Clustering coefficient 0.0961400653307\n",
      "From 2011 to 2015 | Clustering coefficient 0.107679410813\n",
      "From 2011 to 2016 | Clustering coefficient 0.144948026257\n"
     ]
    }
   ],
   "source": [
    "for year_1 in range(2011, 2017):\n",
    "    d = clustering_coefficient_year(2011, year_1)\n",
    "    print \"From 2011 to\", year_1, \"| Clustering coefficient\", d"
   ]
  },
  {
   "cell_type": "code",
   "execution_count": null,
   "metadata": {
    "collapsed": true
   },
   "outputs": [],
   "source": []
  }
 ],
 "metadata": {
  "kernelspec": {
   "display_name": "Python 2",
   "language": "python",
   "name": "python2"
  },
  "language_info": {
   "codemirror_mode": {
    "name": "ipython",
    "version": 2
   },
   "file_extension": ".py",
   "mimetype": "text/x-python",
   "name": "python",
   "nbconvert_exporter": "python",
   "pygments_lexer": "ipython2",
   "version": "2.7.13"
  }
 },
 "nbformat": 4,
 "nbformat_minor": 2
}
